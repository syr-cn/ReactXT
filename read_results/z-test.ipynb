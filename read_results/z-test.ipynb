{
 "cells": [
  {
   "cell_type": "code",
   "execution_count": 6,
   "metadata": {},
   "outputs": [],
   "source": [
    "from statsmodels.stats.proportion import proportions_ztest\n",
    "import numpy as np\n",
    "\n",
    "def z_test(prop1, prop2):\n",
    "    n=5007\n",
    "    successes = np.array([int(prop1*n), int(prop2*n)])\n",
    "\n",
    "    nobs = np.array([n, n])\n",
    "\n",
    "    stat, pval = proportions_ztest(count=successes, nobs=nobs)\n",
    "\n",
    "    print(f'Z-statistic: {stat:.2f}')\n",
    "    print(f'P-value: {pval:.4f}')\n",
    "\n",
    "    # Interpret the p-value\n",
    "    alpha = 0.05  # Typical value for statistical significance\n",
    "    if pval < alpha:\n",
    "        print(\"Reject the null hypothesis - suggest the model accuracy is significantly different.\")\n",
    "    else:\n",
    "        print(\"Fail to reject the null hypothesis - suggest the model accuracy is not significantly different.\")\n",
    "    return stat, pval\n"
   ]
  },
  {
   "cell_type": "code",
   "execution_count": 8,
   "metadata": {},
   "outputs": [
    {
     "name": "stdout",
     "output_type": "stream",
     "text": [
      "0.586 vs 0.563\n",
      "Z-statistic: 2.34\n",
      "P-value: 0.0191\n",
      "Reject the null hypothesis - suggest the model accuracy is significantly different.\n",
      "\n",
      "\n",
      "0.811 vs 0.792\n",
      "Z-statistic: 2.38\n",
      "P-value: 0.0173\n",
      "Reject the null hypothesis - suggest the model accuracy is significantly different.\n",
      "\n",
      "\n",
      "0.865 vs 0.862\n",
      "Z-statistic: 0.44\n",
      "P-value: 0.6624\n",
      "Fail to reject the null hypothesis - suggest the model accuracy is not significantly different.\n",
      "\n",
      "\n",
      "0.91 vs 0.91\n",
      "Z-statistic: 0.00\n",
      "P-value: 1.0000\n",
      "Fail to reject the null hypothesis - suggest the model accuracy is not significantly different.\n",
      "\n",
      "\n",
      "2.34448 2.37951 0.43659 0.00000\n",
      "0.01905 0.01734 0.66241 1.00000\n"
     ]
    }
   ],
   "source": [
    "ours = [.586, .811, .865, .910]\n",
    "rsmiles = [.563, .792, .862, .910]\n",
    "\n",
    "z_list, p_list = [], []\n",
    "for o, r in zip(ours, rsmiles):\n",
    "    print(f'{o} vs {r}')\n",
    "    z,p = z_test(o, r)\n",
    "    z_list.append(z)\n",
    "    p_list.append(p)\n",
    "    print('\\n')\n",
    "print(' '.join([f'{x:.5f}' for x in z_list]))\n",
    "print(' '.join([f'{x:.5f}' for x in p_list]))"
   ]
  }
 ],
 "metadata": {
  "kernelspec": {
   "display_name": "molca",
   "language": "python",
   "name": "python3"
  },
  "language_info": {
   "codemirror_mode": {
    "name": "ipython",
    "version": 3
   },
   "file_extension": ".py",
   "mimetype": "text/x-python",
   "name": "python",
   "nbconvert_exporter": "python",
   "pygments_lexer": "ipython3",
   "version": "3.8.17"
  }
 },
 "nbformat": 4,
 "nbformat_minor": 2
}
